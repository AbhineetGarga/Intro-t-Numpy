{
 "cells": [
  {
   "metadata": {},
   "cell_type": "markdown",
   "source": "<h2>Introduction to Python Numpy</h2>",
   "id": "4213fc40b03b116"
  },
  {
   "metadata": {
    "ExecuteTime": {
     "end_time": "2025-02-02T17:40:41.899999Z",
     "start_time": "2025-02-02T17:40:34.547813Z"
    }
   },
   "cell_type": "code",
   "source": [
    "import numpy as np\n",
    "from sympy.physics.units import Dimension\n",
    "from torch.utils.benchmark.utils.fuzzer import dtype_size"
   ],
   "id": "ea64b5f8e9fb456d",
   "outputs": [],
   "execution_count": 2
  },
  {
   "metadata": {
    "ExecuteTime": {
     "end_time": "2025-02-02T17:40:41.931670Z",
     "start_time": "2025-02-02T17:40:41.922226Z"
    }
   },
   "cell_type": "code",
   "source": [
    "print('Introduction to Python Numpy')\n",
    "# Numpy Tupple \n",
    "a = np.array((1, 2, 3,\n",
    "              4, 5, 6))\n",
    "\n",
    "print(f\"Your Array in Tupple is: {a}\")\n",
    "print(f\"The type of array is: {type(a)}\") #It reflect the Type of the array weather it is int string or what?\n",
    "\n"
   ],
   "id": "64aeec207f0f3de0",
   "outputs": [
    {
     "name": "stdout",
     "output_type": "stream",
     "text": [
      "Introduction to Python Numpy\n",
      "Your Array in Tupple is: [1 2 3 4 5 6]\n",
      "The type of array is: <class 'numpy.ndarray'>\n"
     ]
    }
   ],
   "execution_count": 3
  },
  {
   "metadata": {
    "ExecuteTime": {
     "end_time": "2025-02-02T17:40:43.502404Z",
     "start_time": "2025-02-02T17:40:43.497159Z"
    }
   },
   "cell_type": "code",
   "source": [
    "# Array using List method \n",
    "a = np.array([[1, 2, 3],\n",
    "              [4, 5, 6]])\n",
    "print(f\"Your Array in Tupple is: {a}\")\n",
    "print(f\"The type of array is: {type(a)}\") #It reflect the Type of the array weather it is int string or what?"
   ],
   "id": "716483f7f70ddb63",
   "outputs": [
    {
     "name": "stdout",
     "output_type": "stream",
     "text": [
      "Your Array in Tupple is: [[1 2 3]\n",
      " [4 5 6]]\n",
      "The type of array is: <class 'numpy.ndarray'>\n"
     ]
    }
   ],
   "execution_count": 4
  },
  {
   "metadata": {},
   "cell_type": "markdown",
   "source": [
    "<h1>Dimensions of Array</h1>\n",
    "<h6>1D Array</h6> \n",
    "<h6>2D Array</h6>\n",
    "<h6>3D Array</h4>"
   ],
   "id": "921c7511f2b79608"
  },
  {
   "metadata": {
    "ExecuteTime": {
     "end_time": "2025-02-02T17:40:50.439026Z",
     "start_time": "2025-02-02T17:40:50.433427Z"
    }
   },
   "cell_type": "code",
   "source": [
    "#0 Dimensional array\n",
    "n= np.array(24)\n",
    "print(f\"Your Array in Tuple is: {n}\")\n",
    "\n",
    "print(f\"Dimension: ={n.ndim}\") # Dimension of array "
   ],
   "id": "48da828bcf83eaa0",
   "outputs": [
    {
     "name": "stdout",
     "output_type": "stream",
     "text": [
      "Your Array in Tuple is: 24\n",
      "Dimension: =0\n"
     ]
    }
   ],
   "execution_count": 5
  },
  {
   "metadata": {
    "ExecuteTime": {
     "end_time": "2025-02-02T17:40:51.325772Z",
     "start_time": "2025-02-02T17:40:51.318622Z"
    }
   },
   "cell_type": "code",
   "source": [
    "# Now 1 dimensional array\n",
    "print(f\"1 Dimensional Array\")\n",
    "# Array using List method \n",
    "a = np.array([1, 2, 3])\n",
    "print(f\"Your 1 dimensional array is: {a}\")\n",
    "print(f\"Dimension: ={a.ndim}\") # Dimension of array "
   ],
   "id": "29c1d75db2cd143a",
   "outputs": [
    {
     "name": "stdout",
     "output_type": "stream",
     "text": [
      "1 Dimensional Array\n",
      "Your 1 dimensional array is: [1 2 3]\n",
      "Dimension: =1\n"
     ]
    }
   ],
   "execution_count": 6
  },
  {
   "metadata": {
    "ExecuteTime": {
     "end_time": "2025-02-02T17:40:52.010809Z",
     "start_time": "2025-02-02T17:40:52.002548Z"
    }
   },
   "cell_type": "code",
   "source": [
    "# Now 2-dimensional array\n",
    "print(f\"1 Dimensional Array\")\n",
    "# Array using List method \n",
    "a = np.array([[1, 2, 3],\n",
    "              [4, 5, 6]])\n",
    "print(f\"Your 2-dimensional array is: {a}\")\n",
    "print(f\"Dimension: ={a.ndim}\") # Dimension of array "
   ],
   "id": "369d49b7a7f38a61",
   "outputs": [
    {
     "name": "stdout",
     "output_type": "stream",
     "text": [
      "1 Dimensional Array\n",
      "Your 2-dimensional array is: [[1 2 3]\n",
      " [4 5 6]]\n",
      "Dimension: =2\n"
     ]
    }
   ],
   "execution_count": 7
  },
  {
   "metadata": {},
   "cell_type": "markdown",
   "source": [
    "<h1>Initialize Numpy Arrays</h1>\n",
    "Using the zeroes method\n"
   ],
   "id": "a9f773ad8e452a16"
  },
  {
   "metadata": {
    "ExecuteTime": {
     "end_time": "2025-02-02T17:40:53.518135Z",
     "start_time": "2025-02-02T17:40:53.507029Z"
    }
   },
   "cell_type": "code",
   "source": [
    "#Example 1 for 2 Rows 3 columns\n",
    "n= np.zeros([2,3])\n",
    "print(n)\n",
    "print(type(n))\n",
    "print(f\"Dimension: ={n.ndim}\") # Dimension of array "
   ],
   "id": "13d296a2099f20c3",
   "outputs": [
    {
     "name": "stdout",
     "output_type": "stream",
     "text": [
      "[[0. 0. 0.]\n",
      " [0. 0. 0.]]\n",
      "<class 'numpy.ndarray'>\n",
      "Dimension: =2\n"
     ]
    }
   ],
   "execution_count": 8
  },
  {
   "metadata": {
    "ExecuteTime": {
     "end_time": "2025-02-02T17:40:54.187169Z",
     "start_time": "2025-02-02T17:40:54.178572Z"
    }
   },
   "cell_type": "code",
   "source": [
    "#Example 2 1 for 4 Rows 4 columns\n",
    "n= np.zeros([4,4])\n",
    "print(n)\n",
    "print(type(n))\n",
    "print(f\"Dimension: ={n.ndim}\") # Dimension of array "
   ],
   "id": "2edd3b0d8c790440",
   "outputs": [
    {
     "name": "stdout",
     "output_type": "stream",
     "text": [
      "[[0. 0. 0. 0.]\n",
      " [0. 0. 0. 0.]\n",
      " [0. 0. 0. 0.]\n",
      " [0. 0. 0. 0.]]\n",
      "<class 'numpy.ndarray'>\n",
      "Dimension: =2\n"
     ]
    }
   ],
   "execution_count": 9
  },
  {
   "metadata": {},
   "cell_type": "markdown",
   "source": [
    "<h3>Data Types</h3>\n",
    "<h3>b= booleans</h3>\n",
    "<h3>u= unsigned Integer</h3>\n",
    "<h3>f= float</h3>\n",
    "<h3>c= complex float</h3>\n",
    "<h3>M= datetime</h3>\n",
    "<h3>O= object</h3>\n",
    "<h3>S= string</h3>\n",
    "<h3>U= unicode string</h3>"
   ],
   "id": "904219d62683be11"
  },
  {
   "metadata": {
    "ExecuteTime": {
     "end_time": "2025-02-02T17:40:55.658912Z",
     "start_time": "2025-02-02T17:40:55.653390Z"
    }
   },
   "cell_type": "code",
   "source": [
    "#Integer Data Type\n",
    "n= np.array([10, 20, 30])\n",
    "print(f\"The DataType of the array is: {n.dtype}\")"
   ],
   "id": "a73874dfca17b32b",
   "outputs": [
    {
     "name": "stdout",
     "output_type": "stream",
     "text": [
      "The DataType of the array is: int64\n"
     ]
    }
   ],
   "execution_count": 10
  },
  {
   "metadata": {
    "ExecuteTime": {
     "end_time": "2025-02-02T17:40:56.342855Z",
     "start_time": "2025-02-02T17:40:56.335334Z"
    }
   },
   "cell_type": "code",
   "source": [
    "#String Data Type\n",
    "n= np.array([\"Amit\", \"Rohit\", \"Pushpa\", \"Virat\"])\n",
    "print(n)\n",
    "print(f\"The DataType of the array is: {n.dtype}\")  #Unoicode String is visible here"
   ],
   "id": "b24df1c6a8b48679",
   "outputs": [
    {
     "name": "stdout",
     "output_type": "stream",
     "text": [
      "['Amit' 'Rohit' 'Pushpa' 'Virat']\n",
      "The DataType of the array is: <U6\n"
     ]
    }
   ],
   "execution_count": 11
  },
  {
   "metadata": {
    "ExecuteTime": {
     "end_time": "2025-02-02T17:40:56.963711Z",
     "start_time": "2025-02-02T17:40:56.955126Z"
    }
   },
   "cell_type": "code",
   "source": [
    "#Setup DataType size\n",
    "n= np.array([\"Amit\", \"Rohit\", \"Pushpa\", \"Virat\", \"Machine\"], dtype= 'S5')\n",
    "print(n.dtype)"
   ],
   "id": "24b43fc21ad27b12",
   "outputs": [
    {
     "name": "stdout",
     "output_type": "stream",
     "text": [
      "|S5\n"
     ]
    }
   ],
   "execution_count": 12
  },
  {
   "metadata": {
    "ExecuteTime": {
     "end_time": "2025-02-02T17:40:57.478813Z",
     "start_time": "2025-02-02T17:40:57.470283Z"
    }
   },
   "cell_type": "code",
   "source": [
    "#Convert one data type to another\n",
    "n= np.array([\"10\", \"20\", \"30\", \"40\", \"50\", \"60\"])\n",
    "print(n)\n",
    "print(f\"The DataType of the array is: {n.dtype}\")\n",
    "\n",
    "n2= n.astype('i')\n",
    "print(n2)\n",
    "print(f\"The DataType of the array is: {n2.dtype}\")"
   ],
   "id": "df1bd5dd80f91289",
   "outputs": [
    {
     "name": "stdout",
     "output_type": "stream",
     "text": [
      "['10' '20' '30' '40' '50' '60']\n",
      "The DataType of the array is: <U2\n",
      "[10 20 30 40 50 60]\n",
      "The DataType of the array is: int32\n"
     ]
    }
   ],
   "execution_count": 13
  },
  {
   "metadata": {},
   "cell_type": "markdown",
   "source": [
    "\n",
    "<h1>Numpy Array Indexing</h1>\n",
    "Acces the element from 1st 2bd and 3rd degree array"
   ],
   "id": "4ac443384c5046b0"
  },
  {
   "metadata": {
    "ExecuteTime": {
     "end_time": "2025-02-02T17:41:00.310449Z",
     "start_time": "2025-02-02T17:41:00.304756Z"
    }
   },
   "cell_type": "code",
   "source": [
    "n=  np.array([10, 20, 30, 40, 50, 60, 70])\n",
    "print(n[0])\n"
   ],
   "id": "f49b18e8e3e1cfbd",
   "outputs": [
    {
     "name": "stdout",
     "output_type": "stream",
     "text": [
      "10\n"
     ]
    }
   ],
   "execution_count": 14
  },
  {
   "metadata": {},
   "cell_type": "code",
   "outputs": [],
   "execution_count": null,
   "source": "",
   "id": "b5052252d57194a6"
  }
 ],
 "metadata": {
  "kernelspec": {
   "display_name": "Python 3",
   "language": "python",
   "name": "python3"
  },
  "language_info": {
   "codemirror_mode": {
    "name": "ipython",
    "version": 2
   },
   "file_extension": ".py",
   "mimetype": "text/x-python",
   "name": "python",
   "nbconvert_exporter": "python",
   "pygments_lexer": "ipython2",
   "version": "2.7.6"
  }
 },
 "nbformat": 4,
 "nbformat_minor": 5
}
